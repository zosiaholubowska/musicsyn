onsets.append(onsets[-1] + durations[-1] + 0.1)
durations.append(0.1)