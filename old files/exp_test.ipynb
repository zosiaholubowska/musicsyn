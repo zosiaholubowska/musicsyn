{
 "cells": [
  {
   "cell_type": "code",
   "execution_count": 2,
   "metadata": {},
   "outputs": [],
   "source": [
    "import time\n",
    "import subprocess\n",
    "import itertools\n",
    "import pickle\n",
    "import numpy\n",
    "from numpy.random import default_rng\n",
    "import matplotlib.pyplot as plt\n",
    "import pandas\n",
    "import slab"
   ]
  },
  {
   "cell_type": "markdown",
   "metadata": {},
   "source": [
    "**Read musical stimulus**"
   ]
  },
  {
   "cell_type": "code",
   "execution_count": 5,
   "metadata": {},
   "outputs": [],
   "source": [
    "file = \"regular_major_1.csv\"\n",
    "\n",
    "def read_melody(file):\n",
    "    score_data = pandas.read_csv(file, sep=\";\") #open the csv file with notes\n",
    "    onsets = score_data.onset_sec.to_list()  #list of onsets of consecutive notes\n",
    "    freq = score_data.freq.to_list() #frequencies of consecutive notes\n",
    "    frequencies = [float(f.replace(\",\", \".\")) for f in freq] #replace , with . in the frequencies\n",
    "    durations = score_data.duration_sec.to_list() #note durations\n",
    "    boundaries = score_data.boundary.to_list() #0 or 1 indication if the note is the beginning of a new phrase\n",
    "    onsets.append(onsets[-1] + durations[-1] + 0.1) #I add a dummy note here\n",
    "    durations.append(0.1) #I add a dummy note here\n",
    "    return onsets, frequencies, durations, boundaries\n",
    "\n",
    "onsets, frequencies, durations, boundaries = read_melody(file)\n"
   ]
  },
  {
   "cell_type": "markdown",
   "metadata": {},
   "source": [
    "**Create an experimental sequence**"
   ]
  },
  {
   "cell_type": "code",
   "execution_count": 7,
   "metadata": {},
   "outputs": [],
   "source": [
    "def create_sequence(boundaries, dev_freq, subject):\n",
    "    boundaries_df = pandas.DataFrame(boundaries, columns=['boundary'])\n",
    "    boundaries_df['idx'] = range(len(boundaries_df))\n",
    "\n",
    "    #so this part creates a sequence for location change\n",
    "    n_notes = boundaries.count(0)\n",
    "    n_boundaries = boundaries.count(1)\n",
    "\n",
    "    n_reps_notes = round((100 * n_notes)/(100+100*dev_freq))\n",
    "    n_reps_boundaries = round((100 * n_boundaries)/(100+100*dev_freq))\n",
    "\n",
    "    s_notes = slab.Trialsequence(conditions=1, n_reps=n_reps_notes, deviant_freq=dev_freq)\n",
    "    s_notes_df = pandas.DataFrame(s_notes, columns=['sequence'])\n",
    "    seq_zeros = s_notes_df['sequence']\n",
    "    s_zeros = seq_zeros.to_list()\n",
    "\n",
    "    s_boundaries = slab.Trialsequence(conditions=1, n_reps=10, deviant_freq=dev_freq)\n",
    "    s_boundaries_df = pandas.DataFrame(s_boundaries, columns=['sequence'])\n",
    "    seq_ones = s_boundaries_df['sequence']\n",
    "    s_ones = seq_ones.to_list()\n",
    "\n",
    "    bound_zeros = boundaries_df.loc[boundaries_df['boundary'] == 0]\n",
    "    if len(s_zeros) > len(bound_zeros):\n",
    "        s_zeros = s_ones[ :len(bound_zeros)]\n",
    "    elif len(s_zeros) < len(bound_zeros):\n",
    "        s_zeros.append(1)\n",
    "    bound_zeros.insert(1, 'sequence', s_zeros)\n",
    "\n",
    "    bound_ones = boundaries_df.loc[boundaries_df['boundary'] == 1]\n",
    "    if len(s_ones) > len(bound_ones):\n",
    "        s_ones = s_ones[ :len(bound_ones)]\n",
    "    bound_ones.insert(1,'sequence', s_ones)\n",
    "\n",
    "    frames = [bound_zeros, bound_ones]\n",
    "    sequence = pandas.concat(frames)\n",
    "    temp_seq = sequence.sort_values(by='idx', ascending=True)\n",
    "\n",
    "    #this part is to give cues without location change, at 20% rate\n",
    "\n",
    "    n_locchange = ((temp_seq['sequence']).tolist()).count(0)\n",
    "    n_locstay = ((temp_seq['sequence']).tolist()).count(1)\n",
    "\n",
    "    n_reps_locchange = round((100 * n_locchange)/(100+100*dev_freq))\n",
    "    n_reps_locstay = round((100 * n_locstay)/(100+100*dev_freq))\n",
    "\n",
    "    s_locchange = slab.Trialsequence(conditions=1, n_reps=n_reps_locchange, deviant_freq=dev_freq)\n",
    "    s_locchange_df = pandas.DataFrame(s_locchange, columns=['cue'])\n",
    "    seq_locchange = s_locchange_df['cue']\n",
    "    s_locchange = seq_locchange.to_list()\n",
    "\n",
    "    s_locstay = slab.Trialsequence(conditions=1, n_reps=n_locstay, deviant_freq=dev_freq)\n",
    "    s_locstay_df = pandas.DataFrame(s_locstay, columns=['cue'])\n",
    "    seq_locstay = s_locstay_df['cue']\n",
    "    s_locstay = seq_locstay.to_list()\n",
    "\n",
    "    bound_locchange = temp_seq.loc[temp_seq['sequence'] == 0]\n",
    "    if len(s_locchange) > len(bound_locchange):\n",
    "        s_locchange = s_locchange[ :len(bound_locchange)]\n",
    "    elif len(s_locchange) < len(bound_locchange):\n",
    "        s_locchange.append(1)\n",
    "    bound_locchange.insert(1, 'cue', s_locchange)\n",
    "\n",
    "    bound_locstay = temp_seq.loc[temp_seq['sequence'] == 1]\n",
    "    if len(s_locstay) > len(bound_locstay):\n",
    "        s_locstay = s_locstay[ :len(bound_locstay)]\n",
    "    bound_locstay.insert(1,'cue', s_locstay)\n",
    "\n",
    "    frames_f = [bound_locchange, bound_locstay]\n",
    "    seq_f = pandas.concat(frames_f)\n",
    "    final = seq_f.sort_values(by='idx', ascending=True)\n",
    "    final.to_csv(\n",
    "        f\"/Users/zofiaholubowska/Documents/PhD/experiment/musicsyn/Results/{subject}/{subject}_seq.csv\",\n",
    "    )\n",
    "    return final\n",
    "\n",
    "\n",
    "final = create_sequence(boundaries, 0.25, \"ZH\")\n",
    "\n"
   ]
  },
  {
   "cell_type": "markdown",
   "metadata": {},
   "source": [
    "Wszystko działa, sekwencja zapisuje się we właściwym pliku, w podfolderze dla konkretnej osoby badanej."
   ]
  },
  {
   "cell_type": "markdown",
   "metadata": {},
   "source": [
    "*Number of instances, when there is a location change and visual at the phrase boundary*"
   ]
  },
  {
   "cell_type": "code",
   "execution_count": 8,
   "metadata": {},
   "outputs": [
    {
     "data": {
      "text/html": [
       "<div>\n",
       "<style scoped>\n",
       "    .dataframe tbody tr th:only-of-type {\n",
       "        vertical-align: middle;\n",
       "    }\n",
       "\n",
       "    .dataframe tbody tr th {\n",
       "        vertical-align: top;\n",
       "    }\n",
       "\n",
       "    .dataframe thead th {\n",
       "        text-align: right;\n",
       "    }\n",
       "</style>\n",
       "<table border=\"1\" class=\"dataframe\">\n",
       "  <thead>\n",
       "    <tr style=\"text-align: right;\">\n",
       "      <th></th>\n",
       "      <th>boundary</th>\n",
       "      <th>cue</th>\n",
       "      <th>sequence</th>\n",
       "      <th>idx</th>\n",
       "    </tr>\n",
       "  </thead>\n",
       "  <tbody>\n",
       "    <tr>\n",
       "      <th>80</th>\n",
       "      <td>1</td>\n",
       "      <td>0</td>\n",
       "      <td>0</td>\n",
       "      <td>80</td>\n",
       "    </tr>\n",
       "  </tbody>\n",
       "</table>\n",
       "</div>"
      ],
      "text/plain": [
       "    boundary  cue  sequence  idx\n",
       "80         1    0         0   80"
      ]
     },
     "execution_count": 8,
     "metadata": {},
     "output_type": "execute_result"
    }
   ],
   "source": [
    "final.loc[(final['boundary'] == 1) & (final['cue'] == 0) & (final['sequence'] == 0)]"
   ]
  },
  {
   "cell_type": "markdown",
   "metadata": {},
   "source": [
    "*Plot showing the distribution of notes visual_cue/loc_change*"
   ]
  },
  {
   "cell_type": "code",
   "execution_count": 9,
   "metadata": {},
   "outputs": [
    {
     "data": {
      "image/png": "[encoded data removed]",
      "text/plain": [
       "<Figure size 640x480 with 1 Axes>"
      ]
     },
     "metadata": {},
     "output_type": "display_data"
    }
   ],
   "source": [
    "cue = final.loc[final['cue'] == 0]\n",
    "no_cue = final.loc[final['cue'] == 1]\n",
    "\n",
    "loc_change = cue.loc[cue['sequence'] == 0]\n",
    "loc_stay = cue.loc[cue['sequence'] == 1]\n",
    "\n",
    "loc_change_no = no_cue.loc[no_cue['sequence'] == 0]\n",
    "loc_stay_no = no_cue.loc[no_cue['sequence'] == 1]\n",
    "\n",
    "lc = len(loc_change)\n",
    "ls = len(loc_stay)\n",
    "lcn = len(loc_change_no)\n",
    "lsn = len(loc_stay_no)\n",
    "lc,ls,lcn,lsn\n",
    "\n",
    "x = ['cue', 'no cue']\n",
    "y1 = [lc, lcn]\n",
    "y2 = [ls, lsn]\n",
    "\n",
    "plt.bar(x, y1, color=\"#abcdef\")\n",
    "plt.bar(x, y2, bottom=y1, color=\"#fcfc83\")\n",
    "plt.show()"
   ]
  },
  {
   "cell_type": "markdown",
   "metadata": {},
   "source": [
    "*Plot showing the distribution of notes loc_change/visual_cue*"
   ]
  },
  {
   "cell_type": "code",
   "execution_count": 10,
   "metadata": {},
   "outputs": [
    {
     "data": {
      "image/png": "[encoded data removed]",
      "text/plain": [
       "<Figure size 640x480 with 1 Axes>"
      ]
     },
     "metadata": {},
     "output_type": "display_data"
    }
   ],
   "source": [
    "loc_change = final.loc[final['sequence'] == 0]\n",
    "loc_stay = final.loc[final['sequence'] == 1]\n",
    "\n",
    "cue = loc_change.loc[loc_change['cue'] == 0]\n",
    "no_cue = loc_change.loc[loc_change['cue'] == 1]\n",
    "\n",
    "cue_stay = loc_stay.loc[loc_stay['cue'] == 0]\n",
    "no_cue_stay = loc_stay.loc[loc_stay['cue'] == 1]\n",
    "\n",
    "c = len(cue)\n",
    "nc = len(no_cue)\n",
    "cs = len(cue_stay)\n",
    "ncs = len(no_cue_stay)\n",
    "c, nc, cs, ncs\n",
    "\n",
    "x = ['Location change', 'No location change']\n",
    "y1 = [c, cs]\n",
    "y2 = [nc, ncs]\n",
    "\n",
    "plt.bar(x, y1, color=\"#abcdef\",label = \"cue\" )\n",
    "plt.bar(x, y2, bottom=y1, color=\"#fcfc83\", label = \"no cue\")\n",
    "plt.legend()\n",
    "plt.show()"
   ]
  },
  {
   "cell_type": "markdown",
   "metadata": {},
   "source": [
    "**Read the results file and add it to the sequence, to have full data**"
   ]
  },
  {
   "cell_type": "code",
   "execution_count": 18,
   "metadata": {},
   "outputs": [
    {
     "name": "stdout",
     "output_type": "stream",
     "text": [
      "      Frequency  Boundary  Location_change  Visual_cue  Responses\n",
      "0    391.995436         0                0           1        0.0\n",
      "1    329.627557         0                1           1        0.0\n",
      "2    440.000000         0                0           0        0.0\n",
      "3    293.664768         0                1           1        0.0\n",
      "4    329.627557         0                0           1        0.0\n",
      "..          ...       ...              ...         ...        ...\n",
      "195         NaN         0                1           1        NaN\n",
      "196         NaN         0                1           1        NaN\n",
      "197         NaN         0                1           1        NaN\n",
      "198         NaN         0                1           1        NaN\n",
      "199         NaN         0                1           1        NaN\n",
      "\n",
      "[200 rows x 5 columns]\n"
     ]
    }
   ],
   "source": [
    "def subject_data(subject, file):\n",
    "    \"\"\"\n",
    "    This is to create a dataframe with results and the sequence\n",
    "    \"\"\"\n",
    "    \n",
    "    data = slab.ResultsFile.read_file(file)\n",
    "\n",
    "    timestamps = [float(list(d.keys())[0]) for d in data]\n",
    "    frequencies = [list(d.values())[0] for d in data]\n",
    "    responses = numpy.zeros_like(frequencies)\n",
    "\n",
    "    df = pandas.DataFrame(\n",
    "        {\"Timestamp\": timestamps, \"Frequency\": frequencies, \"Responses\": responses}\n",
    "    )\n",
    "\n",
    "    answers = df[df[\"Frequency\"].astype(str).str.isalpha()]\n",
    "    ans = answers[\"Timestamp\"].tolist()\n",
    "\n",
    "    freq = df[~df[\"Frequency\"].astype(str).str.isalpha()]\n",
    "\n",
    "    freq = freq.reset_index(drop=True)\n",
    "\n",
    "    for row in freq.index[:-1]:\n",
    "        start = freq.loc[row][0]\n",
    "        end = freq.loc[row + 1][0]\n",
    "        if row < len(freq):\n",
    "            if any(start <= x < end for x in ans if isinstance(x, (int, float))):\n",
    "                freq.at[row, \"Responses\"] = 1\n",
    "            else:\n",
    "                freq.at[row, \"Responses\"] = 0\n",
    "\n",
    "    start_last = freq.iloc[-1][\"Timestamp\"]\n",
    "    if any(\n",
    "        start_last <= x < (start_last + 1.5) for x in ans if isinstance(x, (int, float))\n",
    "    ):\n",
    "        freq.at[len(freq) - 1, \"Responses\"] = 1\n",
    "    else:\n",
    "        freq.at[len(freq) - 1, \"Responses\"] = 0\n",
    "\n",
    "    seq = pandas.read_csv(f\"/Users/zofiaholubowska/Documents/PhD/experiment/musicsyn/Results/{subject}/{subject}_seq.csv\")\n",
    "\n",
    "    data = seq.join(freq[\"Responses\"])\n",
    "    data = data.join(freq[\"Frequency\"])\n",
    "    data = data.drop(columns=[\"idx\"])\n",
    "    data = data.loc[:, ~data.columns.str.contains('^Unnamed')]\n",
    "    data = data[['Frequency', 'boundary', 'sequence','cue', 'Responses']]\n",
    "    data = data.rename(columns={\"boundary\": \"Boundary\", \"sequence\": \"Location_change\", \"cue\": \"Visual_cue\"})\n",
    "    print(data)\n",
    "\n",
    "subject_data(\"ZH\", \"/Users/zofiaholubowska/Documents/PhD/experiment/musicsyn/Results/ZH/ZH_2023-10-13-10-28-23.txt\")"
   ]
  }
 ],
 "metadata": {
  "kernelspec": {
   "display_name": "Python 3",
   "language": "python",
   "name": "python3"
  },
  "language_info": {
   "codemirror_mode": {
    "name": "ipython",
    "version": 3
   },
   "file_extension": ".py",
   "mimetype": "text/x-python",
   "name": "python",
   "nbconvert_exporter": "python",
   "pygments_lexer": "ipython3",
   "version": "3.10.9"
  },
  "orig_nbformat": 4
 },
 "nbformat": 4,
 "nbformat_minor": 2
}
